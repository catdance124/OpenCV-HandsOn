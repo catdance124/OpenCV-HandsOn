{
  "nbformat": 4,
  "nbformat_minor": 0,
  "metadata": {
    "colab": {
      "name": "OpenCV_HandsOn.ipynb",
      "version": "0.3.2",
      "provenance": [],
      "collapsed_sections": [],
      "include_colab_link": true
    },
    "kernelspec": {
      "name": "python3",
      "display_name": "Python 3"
    }
  },
  "cells": [
    {
      "cell_type": "markdown",
      "metadata": {
        "id": "view-in-github",
        "colab_type": "text"
      },
      "source": [
        "[View in Colaboratory](https://colab.research.google.com/github/t-kinosi/OpenCV-HandsOn/blob/master/OpenCV_HandsOn.ipynb)"
      ]
    },
    {
      "metadata": {
        "id": "jSD9U8k2BvlR",
        "colab_type": "text"
      },
      "cell_type": "markdown",
      "source": [
        "# 準備(インポート/Google colab用にファイルを用意)"
      ]
    },
    {
      "metadata": {
        "id": "dkVNhzJt7ZEe",
        "colab_type": "code",
        "colab": {}
      },
      "cell_type": "code",
      "source": [
        "import cv2\n",
        "import numpy as np\n",
        "from IPython.display import display, Image\n",
        "\n",
        "def imshow(img, format='.png'):\n",
        "  img=cv2.resize(img,(256,256))\n",
        "  decoded_bytes = cv2.imencode(format, img)[1].tobytes()\n",
        "  display(Image(data=decoded_bytes))\n",
        "  \n",
        "def imresize(img):\n",
        "  h, w,_ = img.shape\n",
        "  h, w = int(h/2), int(w/2)\n",
        "  short = h if h <= w else w\n",
        "  return cv2.resize(img[h-short:h+short, w-short:w+short], (512,512))"
      ],
      "execution_count": 0,
      "outputs": []
    },
    {
      "metadata": {
        "id": "BJ4S79BiAthO",
        "colab_type": "text"
      },
      "cell_type": "markdown",
      "source": [
        "インポートと，  \n",
        "インラインで表示を簡単にするための関数  imshow  [ここを参考にした](http://uphy.hatenablog.com/entry/2016/12/11/110703)  \n",
        "(普通はmatplotlibを使うなど，色空間の変換が必要になってきます．今回は簡略のためこの関数を使います．)  \n",
        "入力する画像が長方形だったときに短辺基準で正方形(512,512)にする関数 imresize"
      ]
    },
    {
      "metadata": {
        "id": "wzY9NHvmEuL_",
        "colab_type": "code",
        "colab": {}
      },
      "cell_type": "code",
      "source": [
        "import urllib.request\n",
        "urllib.request.urlretrieve('http://optipng.sourceforge.net/pngtech/img/lena.png', 'lena.png')\n",
        "urllib.request.urlretrieve('https://s3-ap-northeast-1.amazonaws.com/life-static-production/wp-content/uploads/2016/12/30155528/img_119138_4-668x430.png', 'cake.png')\n",
        "urllib.request.urlretrieve('http://cdn-ak.f.st-hatena.com/images/fotolife/M/Martin-S/20151124/20151124221858.png', 'sea.png')\n",
        "urllib.request.urlretrieve('https://upload.wikimedia.org/wikipedia/commons/f/f1/Pomeranian-tb.png', 'dog.png')"
      ],
      "execution_count": 0,
      "outputs": []
    },
    {
      "metadata": {
        "id": "fL8u27ixF0sZ",
        "colab_type": "text"
      },
      "cell_type": "markdown",
      "source": [
        "いくつかテスト画像をダウンロードしてきます"
      ]
    },
    {
      "metadata": {
        "id": "Tx7ZoThwyglO",
        "colab_type": "code",
        "colab": {}
      },
      "cell_type": "code",
      "source": [
        " # from google.colab import files\n",
        " # f = files.upload()"
      ],
      "execution_count": 0,
      "outputs": []
    },
    {
      "metadata": {
        "id": "jeqDqV-s1Ez-",
        "colab_type": "text"
      },
      "cell_type": "markdown",
      "source": [
        "任意のファイルをアップロードして使うこともできます"
      ]
    },
    {
      "metadata": {
        "id": "PX6ROnOdyq0v",
        "colab_type": "code",
        "colab": {}
      },
      "cell_type": "code",
      "source": [
        "!ls -l\n",
        "# !rm *.png    # 削除"
      ],
      "execution_count": 0,
      "outputs": []
    },
    {
      "metadata": {
        "id": "8-ZMO8-e1Kfe",
        "colab_type": "text"
      },
      "cell_type": "markdown",
      "source": [
        "ファイルの存在を確認 ( !~~でコマンドが使えるみたいです ．!pipとかもいけます)\n"
      ]
    },
    {
      "metadata": {
        "id": "vdasDPJQNaky",
        "colab_type": "text"
      },
      "cell_type": "markdown",
      "source": [
        "# OpenCVで基本的な入出力\n",
        "[OpenCVリファレンス](http://labs.eecs.tottori-u.ac.jp/sd/Member/oyamada/OpenCV/html/py_tutorials/py_gui/py_image_display/py_image_display.html)"
      ]
    },
    {
      "metadata": {
        "id": "qy9i6_mYzyrW",
        "colab_type": "code",
        "colab": {}
      },
      "cell_type": "code",
      "source": [
        "img = cv2.imread(\"dog.png\")\n",
        "img = imresize(img)\n",
        "imshow(img)"
      ],
      "execution_count": 0,
      "outputs": []
    },
    {
      "metadata": {
        "id": "Pin4uDjtCATg",
        "colab_type": "text"
      },
      "cell_type": "markdown",
      "source": [
        "**cv2.imread(image)** で画像読み込みを行う  \n",
        "読み込んだ画像を表示して確認"
      ]
    },
    {
      "metadata": {
        "id": "EqfDt8AY0Jta",
        "colab_type": "code",
        "colab": {}
      },
      "cell_type": "code",
      "source": [
        "img_gray = cv2.cvtColor(img, cv2.COLOR_BGR2GRAY)\n",
        "imshow(img_gray)"
      ],
      "execution_count": 0,
      "outputs": []
    },
    {
      "metadata": {
        "id": "Vpqks7HTCIQH",
        "colab_type": "text"
      },
      "cell_type": "markdown",
      "source": [
        "**cv2.cvtColor(image, cv2.COLOR_BGR2GRAY)** でグレー画像に変換できる  \n",
        "色空間変換コードは[いろいろあります](https://docs.opencv.org/3.4.0/d7/d1b/group__imgproc__misc.html#ga4e0972be5de079fed4e3a10e24ef5ef0)．\n",
        "よく使うのはRGB, BGR, HSV, GRAYとか．"
      ]
    },
    {
      "metadata": {
        "id": "VCm6CqbpQUQ8",
        "colab_type": "code",
        "colab": {}
      },
      "cell_type": "code",
      "source": [
        "# cv2.imwrite('gray.png', img_gray)\n",
        "# !ls -l"
      ],
      "execution_count": 0,
      "outputs": []
    },
    {
      "metadata": {
        "id": "p_iqlwhHRh6e",
        "colab_type": "text"
      },
      "cell_type": "markdown",
      "source": [
        "**cv2.imwrite(file name, image)** でファイルを保存できる  "
      ]
    },
    {
      "metadata": {
        "id": "IOgOqoh0L_uP",
        "colab_type": "text"
      },
      "cell_type": "markdown",
      "source": [
        "# [フーリエ変換による周波数フィルタリング](https://algorithm.joho.info/image-processing/fourier-transform/)"
      ]
    },
    {
      "metadata": {
        "id": "rv3GIw5g3oZX",
        "colab_type": "code",
        "colab": {}
      },
      "cell_type": "code",
      "source": [
        "fimg = np.fft.fft2(img_gray)    # 高速フーリエ変換\n",
        "mag = 20*np.log(np.abs(fimg))    # パワースペクトル変換\n",
        "imshow(mag)"
      ],
      "execution_count": 0,
      "outputs": []
    },
    {
      "metadata": {
        "id": "Hi2lYzAu_25X",
        "colab_type": "text"
      },
      "cell_type": "markdown",
      "source": [
        "上のグレー画像をフーリエ変換した結果↑  \n",
        "普通にフーリエ変換すると，下図の←のように低周波が四角に集まるらしい．  \n",
        "下図の→のように象限を入れ替えて低周波を真ん中に集めると使いやすい．  \n",
        "![dd](https://algorithm.joho.info/wp-content/img/algorizm/image-processing/frequency/fft/2.png =x200)"
      ]
    },
    {
      "metadata": {
        "id": "sN9bcyAi8lu2",
        "colab_type": "code",
        "colab": {}
      },
      "cell_type": "code",
      "source": [
        "fimg = np.fft.fftshift(fimg)    # 1,3と2,4象限を入れ替える\n",
        "mag = 20*np.log(np.abs(fimg))    # パワースペクトル変換\n",
        "imshow(mag)"
      ],
      "execution_count": 0,
      "outputs": []
    },
    {
      "metadata": {
        "id": "Qcr9uDhIMbbf",
        "colab_type": "text"
      },
      "cell_type": "markdown",
      "source": [
        "象限を入れ替えると，低周波が中心に集まったことを確認"
      ]
    },
    {
      "metadata": {
        "id": "HHmQkxkGUx2d",
        "colab_type": "text"
      },
      "cell_type": "markdown",
      "source": [
        "## ローパスフィルタ"
      ]
    },
    {
      "metadata": {
        "id": "ClJcwYtdWmkK",
        "colab_type": "text"
      },
      "cell_type": "markdown",
      "source": [
        "### フィルタ作成"
      ]
    },
    {
      "metadata": {
        "id": "l-0VyVzdkiFH",
        "colab_type": "code",
        "colab": {}
      },
      "cell_type": "code",
      "source": [
        "a = 0.1    # フィルタの大きさを決める変数\n",
        "h, w = img_gray.shape    # 画像サイズ取得\n",
        "cy, cx = int(h/2), int(w/2)    # 中心座標を取得\n",
        "rh, rw = int(a*cy), int(a*cx)    # フィルタのサイズを定義\n",
        "lf = np.zeros((h,w), dtype=complex)\n",
        "lf[cy-rh:cy+rh, cx-rw:cx+rw] = fimg[cy-rh:cy+rh, cx-rw:cx+rw]    # 中心部だけ代入ほかは0 =ローパス\n",
        "mag = 20*np.log(np.abs(lf))    # パワースペクトル変換\n",
        "imshow(mag)"
      ],
      "execution_count": 0,
      "outputs": []
    },
    {
      "metadata": {
        "id": "OQn2-94joNYt",
        "colab_type": "text"
      },
      "cell_type": "markdown",
      "source": [
        "周波数領域の一部を切り抜くことで，周波数フィルタを作成できる．  \n",
        "ローパスフィルタでは，中心部のみを残す．"
      ]
    },
    {
      "metadata": {
        "id": "KbZetcanocgc",
        "colab_type": "text"
      },
      "cell_type": "markdown",
      "source": [
        "### 空間領域に戻してみる"
      ]
    },
    {
      "metadata": {
        "id": "IZIZErQ2oIDT",
        "colab_type": "code",
        "colab": {}
      },
      "cell_type": "code",
      "source": [
        "lf = np.fft.fftshift(lf)     # 象限をもとに戻す\n",
        "lf = np.fft.ifft2(lf)    # フーリエ逆変換\n",
        "img_l = np.uint8(lf.real)\n",
        "print('ローパスフィルタ↓')\n",
        "imshow(img_l)\n",
        "print('元画像↓')\n",
        "imshow(img_gray)"
      ],
      "execution_count": 0,
      "outputs": []
    },
    {
      "metadata": {
        "id": "aK91JLchVATC",
        "colab_type": "text"
      },
      "cell_type": "markdown",
      "source": [
        "## ハイパスフィルタ"
      ]
    },
    {
      "metadata": {
        "id": "hwHDAdDUpZtz",
        "colab_type": "text"
      },
      "cell_type": "markdown",
      "source": [
        "### フィルタ作成"
      ]
    },
    {
      "metadata": {
        "id": "9ZPjdiRpVCgL",
        "colab_type": "code",
        "colab": {}
      },
      "cell_type": "code",
      "source": [
        "a = 0.35    # フィルタの大きさを決める変数\n",
        "h, w = img_gray.shape    # 画像サイズ取得\n",
        "cy, cx = int(h/2), int(w/2)    # 中心座標を取得\n",
        "rh, rw = int(a*cy), int(a*cx)    # フィルタのサイズを定義\n",
        "hf = fimg.copy()        # 元の周波数領域をコピー\n",
        "hf[cy-rh:cy+rh, cx-rw:cx+rw] = 0    # 中心部だけ0 =ハイパス\n",
        "mag = 20*np.log(np.abs(hf))    # パワースペクトル変換\n",
        "imshow(mag)"
      ],
      "execution_count": 0,
      "outputs": []
    },
    {
      "metadata": {
        "id": "rt5vXMZaqfb-",
        "colab_type": "text"
      },
      "cell_type": "markdown",
      "source": [
        "ハイパスフィルタは中心を消し去る"
      ]
    },
    {
      "metadata": {
        "id": "CTL4kFHmqPtS",
        "colab_type": "text"
      },
      "cell_type": "markdown",
      "source": [
        "### 空間領域に戻してみる"
      ]
    },
    {
      "metadata": {
        "id": "5wpVI1vEqTLh",
        "colab_type": "code",
        "colab": {}
      },
      "cell_type": "code",
      "source": [
        "hf2 = np.fft.fftshift(hf)     # 象限をもとに戻す\n",
        "hf2 = np.fft.ifft2(hf2)    # フーリエ逆変換\n",
        "img_h = np.uint8(hf2.real)\n",
        "print('ハイパスフィルタ↓')\n",
        "imshow(img_h)\n",
        "print('元画像↓')\n",
        "imshow(img_gray)"
      ],
      "execution_count": 0,
      "outputs": []
    },
    {
      "metadata": {
        "id": "mONvBtv1xqIB",
        "colab_type": "text"
      },
      "cell_type": "markdown",
      "source": [
        "## 高域強調フィルタ"
      ]
    },
    {
      "metadata": {
        "id": "V1W03lQw1QZi",
        "colab_type": "text"
      },
      "cell_type": "markdown",
      "source": [
        "### フィルタ作成"
      ]
    },
    {
      "metadata": {
        "id": "hspXceH6xtAY",
        "colab_type": "code",
        "colab": {}
      },
      "cell_type": "code",
      "source": [
        "hef = 5*hf[:] + fimg[:]\n",
        "mag = 20*np.log(np.abs(5*hf))\n",
        "print('ハイパスフィルタ↓')\n",
        "imshow(mag)\n",
        "mag = 20*np.log(np.abs(fimg))\n",
        "print('元画像↓')\n",
        "imshow(mag)\n",
        "mag = 20*np.log(np.abs(hef))\n",
        "print('足し合わせたもの↓')\n",
        "imshow(mag)"
      ],
      "execution_count": 0,
      "outputs": []
    },
    {
      "metadata": {
        "id": "1crmHoUm0Vzg",
        "colab_type": "text"
      },
      "cell_type": "markdown",
      "source": [
        "高周波数の部分がより強くなっていることがわかる"
      ]
    },
    {
      "metadata": {
        "id": "TqoQh98q1SeZ",
        "colab_type": "text"
      },
      "cell_type": "markdown",
      "source": [
        "### 空間領域に戻してみる"
      ]
    },
    {
      "metadata": {
        "id": "ef9XMogizUbj",
        "colab_type": "code",
        "colab": {}
      },
      "cell_type": "code",
      "source": [
        "hef = np.fft.fftshift(hef)     # 象限をもとに戻す\n",
        "hef = np.fft.ifft2(hef)    # フーリエ逆変換\n",
        "img_he = np.uint8(hef.real)\n",
        "print('高域強調フィルタ↓')\n",
        "imshow(img_he)\n",
        "print('元画像↓')\n",
        "imshow(img_gray)"
      ],
      "execution_count": 0,
      "outputs": []
    },
    {
      "metadata": {
        "id": "msLaBsn6tBXq",
        "colab_type": "text"
      },
      "cell_type": "markdown",
      "source": [
        "## バンドパスフィルタ"
      ]
    },
    {
      "metadata": {
        "id": "PBTSwQ9dxGd5",
        "colab_type": "text"
      },
      "cell_type": "markdown",
      "source": [
        "### フィルタ作成"
      ]
    },
    {
      "metadata": {
        "id": "F2MI-_78s_iJ",
        "colab_type": "code",
        "colab": {}
      },
      "cell_type": "code",
      "source": [
        "low = 0.5\n",
        "high = 0.35    # low > high\n",
        "h, w = img_gray.shape\n",
        "cy, cx = int(h/2), int(w/2)\n",
        "rhl, rwl = int(low*cy), int(low*cx)\n",
        "rhh, rwh = int(high*cy), int(high*cx)\n",
        "bf = np.zeros((h,w), dtype=complex)\n",
        "bf[cy-rhl:cy+rhl, cx-rwl:cx+rwl] = fimg[cy-rhl:cy+rhl, cx-rwl:cx+rwl]\n",
        "bf[cy-rhh:cy+rhh, cx-rwh:cx+rwh] = 0\n",
        "print(rwh)\n",
        "mag = 20*np.log(np.abs(bf))\n",
        "imshow(mag)"
      ],
      "execution_count": 0,
      "outputs": []
    },
    {
      "metadata": {
        "id": "4fjK9hbGwkGG",
        "colab_type": "text"
      },
      "cell_type": "markdown",
      "source": [
        "ローパスフィルタで中心を残したあとにハイパスフィルタで中抜きする感じ"
      ]
    },
    {
      "metadata": {
        "id": "ndwlD1bwxL_x",
        "colab_type": "text"
      },
      "cell_type": "markdown",
      "source": [
        "### 空間領域に戻してみる"
      ]
    },
    {
      "metadata": {
        "id": "9Z-f-mohtJq6",
        "colab_type": "code",
        "colab": {}
      },
      "cell_type": "code",
      "source": [
        "bf = np.fft.fftshift(bf)\n",
        "bf = np.fft.ifft2(bf)\n",
        "img_b = np.uint8(bf.real)\n",
        "print('バンドパスフィルタ↓')\n",
        "imshow(img_b)\n",
        "print('ハイパスフィルタ↓')\n",
        "imshow(img_h)\n",
        "print('元画像↓')\n",
        "imshow(img_gray)"
      ],
      "execution_count": 0,
      "outputs": []
    },
    {
      "metadata": {
        "id": "ANdxWIIIR38r",
        "colab_type": "text"
      },
      "cell_type": "markdown",
      "source": [
        "# 空間フィルタリング\n"
      ]
    },
    {
      "metadata": {
        "id": "zdSre62VSamF",
        "colab_type": "text"
      },
      "cell_type": "markdown",
      "source": [
        "## 平滑化"
      ]
    },
    {
      "metadata": {
        "id": "JJBtuzRYTgoT",
        "colab_type": "text"
      },
      "cell_type": "markdown",
      "source": [
        "### [平均化フィルタ](https://algorithm.joho.info/image-processing/average-filter-smooth/)\n"
      ]
    },
    {
      "metadata": {
        "id": "Lrv6xwec7y79",
        "colab_type": "code",
        "colab": {}
      },
      "cell_type": "code",
      "source": [
        "kernel_size = (5,5)\n",
        "blur = cv2.blur(img, kernel_size)\n",
        "print('平均化フィルタ↓')\n",
        "imshow(blur)\n",
        "print('元画像↓')\n",
        "imshow(img)"
      ],
      "execution_count": 0,
      "outputs": []
    },
    {
      "metadata": {
        "id": "OHdkV98K50W-",
        "colab_type": "text"
      },
      "cell_type": "markdown",
      "source": [
        "[**cv.blur(image, kernel_size)**](http://labs.eecs.tottori-u.ac.jp/sd/Member/oyamada/OpenCV/html/py_tutorials/py_imgproc/py_filtering/py_filtering.html#id4)\n",
        "でkernel_sizeの平均化フィルタを適用した画像を作れる  "
      ]
    },
    {
      "metadata": {
        "id": "9nEpa6OcTk22",
        "colab_type": "text"
      },
      "cell_type": "markdown",
      "source": [
        "### 加重平均化フィルタ"
      ]
    },
    {
      "metadata": {
        "id": "iGe96Xsn9u0m",
        "colab_type": "code",
        "colab": {}
      },
      "cell_type": "code",
      "source": [
        "kernel = np.array([[1, 2, 4, 2, 1],\n",
        "                   [2, 4, 8, 4, 2],\n",
        "                   [4, 8, 16, 8, 4],\n",
        "                   [2, 4, 8, 4, 2],\n",
        "                   [1, 2, 4, 2, 1]]) / 100    # 自作フィルタ\n",
        "blur_weighted = cv2.filter2D(img, -1, kernel)\n",
        "print('平均化フィルタ↓')\n",
        "imshow(blur)\n",
        "print('加重平均化フィルタ↓')\n",
        "imshow(blur_weighted)\n",
        "print('元画像↓')\n",
        "imshow(img)"
      ],
      "execution_count": 0,
      "outputs": []
    },
    {
      "metadata": {
        "id": "_-MEab3V_0dT",
        "colab_type": "text"
      },
      "cell_type": "markdown",
      "source": [
        "[**cv2.filter2D(image, 出力のbit深度？, kernel)**](http://labs.eecs.tottori-u.ac.jp/sd/Member/oyamada/OpenCV/html/py_tutorials/py_imgproc/py_filtering/py_filtering.html#d-convolution)\n",
        " で自作フィルタkernelを適用した画像を作れる  "
      ]
    },
    {
      "metadata": {
        "id": "vUMGCzm-T5Is",
        "colab_type": "text"
      },
      "cell_type": "markdown",
      "source": [
        "#### [Gaussian(ガウシアン)フィルタ](https://algorithm.joho.info/image-processing/gaussian-filter/)\n",
        "ガウス分布で加重平均化フィルタを作成したもの"
      ]
    },
    {
      "metadata": {
        "id": "NS65ZHKJA4ZC",
        "colab_type": "code",
        "colab": {}
      },
      "cell_type": "code",
      "source": [
        "blur_gauss = cv2.GaussianBlur(img, kernel_size ,0)\n",
        "print('加重平均化フィルタ↓')\n",
        "imshow(blur_weighted)\n",
        "print('Gaussianフィルタ↓')\n",
        "imshow(blur_gauss)\n",
        "print('元画像↓')\n",
        "imshow(img)"
      ],
      "execution_count": 0,
      "outputs": []
    },
    {
      "metadata": {
        "id": "wj2-AFIaDRL8",
        "colab_type": "text"
      },
      "cell_type": "markdown",
      "source": [
        "[**cv.GaussianBlur(image, kernel_size, 0)**](http://labs.eecs.tottori-u.ac.jp/sd/Member/oyamada/OpenCV/html/py_tutorials/py_imgproc/py_filtering/py_filtering.html#id5)\n",
        " でガウス分布の加重平均化フィルタを適用することができる  "
      ]
    },
    {
      "metadata": {
        "id": "SWdjvnUXTqA5",
        "colab_type": "text"
      },
      "cell_type": "markdown",
      "source": [
        "### [特定方向の平滑化](http://hiroyukitsuda.com/archives/2064)"
      ]
    },
    {
      "metadata": {
        "id": "-ZzQafMWEb38",
        "colab_type": "code",
        "colab": {}
      },
      "cell_type": "code",
      "source": [
        "kernel_motion = np.diag([1,1,1,1,1,1,1,1,1,1,1,1,1,1,1]) / 15    # (15,15)の対角行列を生成，要素は1/15\n",
        "blur_motion = cv2.filter2D(img, -1, kernel_motion)\n",
        "print('特定方向平滑化↓')\n",
        "imshow(blur_motion)\n",
        "print('元画像↓')\n",
        "imshow(img)"
      ],
      "execution_count": 0,
      "outputs": []
    },
    {
      "metadata": {
        "id": "ObeqnA4rGNNn",
        "colab_type": "text"
      },
      "cell_type": "markdown",
      "source": [
        "特定方向のみに重みをもたせたフィルターを適用すると，モーションブラーのような効果が得られる  "
      ]
    },
    {
      "metadata": {
        "id": "VOyAOy9tSkib",
        "colab_type": "text"
      },
      "cell_type": "markdown",
      "source": [
        "## エッジ抽出"
      ]
    },
    {
      "metadata": {
        "id": "-8_lr4r0UCHi",
        "colab_type": "text"
      },
      "cell_type": "markdown",
      "source": [
        "### [1次微分フィルタ](https://algorithm.joho.info/image-processing/differential-filter/)"
      ]
    },
    {
      "metadata": {
        "id": "WWpAWq9TqDlG",
        "colab_type": "code",
        "colab": {}
      },
      "cell_type": "code",
      "source": [
        "kernel_dx = np.array([[0, 0, 0],\n",
        "                      [0, -1, 1],\n",
        "                      [0, 0, 0]]) *5\n",
        "kernel_dy = np.array([[0, 1, 0],\n",
        "                      [0, -1, 0],\n",
        "                      [0, 0, 0]]) *5\n",
        "diff_x = cv2.filter2D(img_gray, -1, kernel_dx)\n",
        "diff_y = cv2.filter2D(img_gray, -1, kernel_dy)\n",
        "print('横方向1次微分フィルタ↓')\n",
        "imshow(diff_x)\n",
        "print('縦方向1次微分フィルタ↓')\n",
        "imshow(diff_y)\n",
        "print('元画像↓')\n",
        "imshow(img_gray)"
      ],
      "execution_count": 0,
      "outputs": []
    },
    {
      "metadata": {
        "id": "CwaxGCXTWO2u",
        "colab_type": "text"
      },
      "cell_type": "markdown",
      "source": [
        "### 2次微分フィルタ"
      ]
    },
    {
      "metadata": {
        "id": "mfkKw6IhyooG",
        "colab_type": "code",
        "colab": {}
      },
      "cell_type": "code",
      "source": [
        "kernel_ddx = np.array([[0, 0, 0],\n",
        "                       [1, -2, 1],\n",
        "                       [0, 0, 0]]) *5\n",
        "kernel_ddy = np.array([[0, 1, 0],\n",
        "                       [0, -2, 0],\n",
        "                       [0, 1, 0]]) *5\n",
        "diff2_x = cv2.filter2D(img_gray, -1, kernel_ddx)\n",
        "diff2_y = cv2.filter2D(img_gray, -1, kernel_ddy)\n",
        "print('横方向2次微分フィルタ↓')\n",
        "imshow(diff2_x)\n",
        "print('縦方向2次微分フィルタ↓')\n",
        "imshow(diff2_y)\n",
        "print('元画像↓')\n",
        "imshow(img_gray)"
      ],
      "execution_count": 0,
      "outputs": []
    },
    {
      "metadata": {
        "id": "nGyMQGdvUEvi",
        "colab_type": "text"
      },
      "cell_type": "markdown",
      "source": [
        "### [Prewitt(プレヴィット)フィルタ](https://algorithm.joho.info/image-processing/prewitt-filter/)\n",
        "### [Sobel(ソーベル)フィルタ](https://algorithm.joho.info/image-processing/sobel-filter/)"
      ]
    },
    {
      "metadata": {
        "id": "p43CoQlnwxr7",
        "colab_type": "code",
        "colab": {}
      },
      "cell_type": "code",
      "source": [
        "kernel_prewitt = np.array([[-1, 0, 1],\n",
        "                           [-1, 0, 1],\n",
        "                           [-1, 0, 1]])\n",
        "kernel_sobel = np.array([[-1, 0, 1],\n",
        "                         [-2, 0, 2],\n",
        "                         [-1, 0, 1]])\n",
        "prewitt = cv2.filter2D(img_gray, -1, kernel_prewitt)\n",
        "sobel = cv2.filter2D(img_gray, -1, kernel_sobel)\n",
        "print('prewittフィルタ↓')\n",
        "imshow(prewitt)\n",
        "print('sobelフィルタ↓')\n",
        "imshow(sobel)\n",
        "print('元画像↓')\n",
        "imshow(img_gray)"
      ],
      "execution_count": 0,
      "outputs": []
    },
    {
      "metadata": {
        "id": "vLtJIB_31R1y",
        "colab_type": "text"
      },
      "cell_type": "markdown",
      "source": [
        "SobelフィルタはPrewittフィルタの改良版  \n",
        "Sobelフィルタのほうが，輪郭の部分がより白くなっている．"
      ]
    },
    {
      "metadata": {
        "id": "Jjq6kc5pU2KB",
        "colab_type": "text"
      },
      "cell_type": "markdown",
      "source": [
        "### [Laplacian(ラプラシアン)フィルタ](https://algorithm.joho.info/image-processing/laplacian-filter/)"
      ]
    },
    {
      "metadata": {
        "id": "EyfrYwLO1wxw",
        "colab_type": "code",
        "colab": {}
      },
      "cell_type": "code",
      "source": [
        "laplacian = cv2.Laplacian(img_gray, cv2.CV_32F, ksize=3)\n",
        "laplacian = cv2.convertScaleAbs(laplacian)  # 8bit符号なしに変換\n",
        "print('Laplacianフィルタ↓')\n",
        "imshow(laplacian)\n",
        "print('元画像↓')\n",
        "imshow(img_gray)"
      ],
      "execution_count": 0,
      "outputs": []
    },
    {
      "metadata": {
        "id": "hoeGHDbJ5WE_",
        "colab_type": "text"
      },
      "cell_type": "markdown",
      "source": [
        "[**cv2.Laplacian(image, cv2.CV_32F, ksize)**](http://labs.eecs.tottori-u.ac.jp/sd/Member/oyamada/OpenCV/html/py_tutorials/py_imgproc/py_gradients/py_gradients.html#laplacian)\n",
        "でラプラシアンフィルタを適応した画像を作成できる  "
      ]
    },
    {
      "metadata": {
        "id": "XUo1_e5CSmp5",
        "colab_type": "text"
      },
      "cell_type": "markdown",
      "source": [
        "## 先鋭化"
      ]
    },
    {
      "metadata": {
        "id": "feyrh5RJWpKl",
        "colab_type": "text"
      },
      "cell_type": "markdown",
      "source": [
        "### アンシャープマスキング\n",
        "イメージ：元画像 ＋ (元画像－平滑化(元画像))"
      ]
    },
    {
      "metadata": {
        "id": "2X-Uidl3AFaO",
        "colab_type": "code",
        "colab": {}
      },
      "cell_type": "code",
      "source": [
        "gauss_gray = cv2.GaussianBlur(img_gray, kernel_size ,0)\n",
        "sharp_mask = img_gray - gauss_gray\n",
        "img_sharp = img_gray + sharp_mask*3\n",
        "\n",
        "print('元画像と平滑化との差分↓')\n",
        "imshow(sharp_mask)\n",
        "print('アンシャープマスキング↓')\n",
        "imshow(img_sharp)\n",
        "print('元画像↓')\n",
        "imshow(img_gray)"
      ],
      "execution_count": 0,
      "outputs": []
    },
    {
      "metadata": {
        "id": "IxtuDrpeWs7u",
        "colab_type": "text"
      },
      "cell_type": "markdown",
      "source": [
        "### 先鋭化フィルタ\n",
        "アンシャープマスキングをフィルタとして行うもの"
      ]
    },
    {
      "metadata": {
        "id": "siC0CKH5FMtn",
        "colab_type": "code",
        "colab": {}
      },
      "cell_type": "code",
      "source": [
        "k = 9\n",
        "kernel_sharp = np.array([[-1, -1, -1],\n",
        "                         [-1, 1/9*k+8, -1],\n",
        "                         [-1, -1, -1]]) * k / 9\n",
        "img_sharpf = cv2.filter2D(img_gray, -1, kernel_sharp)\n",
        "print('先鋭化フィルタ↓')\n",
        "imshow(img_sharpf)\n",
        "print('元画像↓')\n",
        "imshow(img_gray)"
      ],
      "execution_count": 0,
      "outputs": []
    },
    {
      "metadata": {
        "id": "RXe4FhU6Iakt",
        "colab_type": "text"
      },
      "cell_type": "markdown",
      "source": [
        "kを弄れば先鋭化のレベルを変えられる"
      ]
    },
    {
      "metadata": {
        "id": "uSQlnz5uWx0i",
        "colab_type": "text"
      },
      "cell_type": "markdown",
      "source": [
        "## エッジを保存した平滑化(非線形フィルタ)\n",
        "ノイズ除去などに使う"
      ]
    },
    {
      "metadata": {
        "id": "fCpnbrLlXYe9",
        "colab_type": "text"
      },
      "cell_type": "markdown",
      "source": [
        "### [bilateral(バイラテラル)フィルタ](https://imagingsolution.net/imaging/bilateralfilter/)"
      ]
    },
    {
      "metadata": {
        "id": "wHz_Od_zKg_s",
        "colab_type": "code",
        "colab": {}
      },
      "cell_type": "code",
      "source": [
        "bi = cv2.bilateralFilter(img, 15, 20, 20)\n",
        "bi2 = cv2.bilateralFilter(bi, 15, 20, 20)\n",
        "bi3 = cv2.bilateralFilter(bi2, 15, 20, 20)\n",
        "bi4 = cv2.bilateralFilter(bi3, 15, 20, 20)\n",
        "bi5 = cv2.bilateralFilter(bi4, 15, 20, 20)\n",
        "\n",
        "\n",
        "print('元画像↓')\n",
        "imshow(img)\n",
        "print('bilateralフィルタ1回↓')\n",
        "imshow(bi)\n",
        "print('bilateralフィルタ3回↓')\n",
        "imshow(bi3)\n",
        "print('bilateralフィルタ5回↓')\n",
        "imshow(bi5)"
      ],
      "execution_count": 0,
      "outputs": []
    },
    {
      "metadata": {
        "id": "RxBld9F7LScs",
        "colab_type": "text"
      },
      "cell_type": "markdown",
      "source": [
        "[cv2.bilateralFilter(image, d, sigmaColor, sigmaSpace)](https://docs.opencv.org/3.0-last-rst/modules/imgproc/doc/filtering.html?highlight=laplacian#bilateralfilter)  \n",
        "d: 注目画素をぼかすために使われる領域  \n",
        "sigmaColor: 色についての標準偏差。これが大きいと、画素値の差が大きくても大きな重みが採用される。  \n",
        "sigmaSpace: 距離についての標準偏差。これが大きいと、画素間の距離が広くても大きな重みが採用される。"
      ]
    },
    {
      "metadata": {
        "id": "KQS7C3d5Xegv",
        "colab_type": "text"
      },
      "cell_type": "markdown",
      "source": [
        "###[**n-local mean(ノンローカルミーン)フィルタ**](https://qiita.com/shim0mura/items/f222082b7ef08de3732e#%E3%83%8E%E3%83%B3%E3%83%AD%E3%83%BC%E3%82%AB%E3%83%AB%E3%83%9F%E3%83%BC%E3%83%B3%E3%83%95%E3%82%A3%E3%83%AB%E3%82%BFnon-local-means-filter)"
      ]
    },
    {
      "metadata": {
        "id": "LykGoYBoxa1f",
        "colab_type": "code",
        "colab": {}
      },
      "cell_type": "code",
      "source": [
        "NLM = cv2.fastNlMeansDenoisingColored(img, None, 10, 10, 7, 21)\n",
        "\n",
        "print('non-local meanフィルタ↓')\n",
        "imshow(NLM)\n",
        "print('元画像↓')\n",
        "imshow(img)"
      ],
      "execution_count": 0,
      "outputs": []
    },
    {
      "metadata": {
        "id": "dPb1IPgW0PJa",
        "colab_type": "text"
      },
      "cell_type": "markdown",
      "source": [
        "[**cv2.fastNlMeansDenoisingColored(image, dst, h, hColor, templateWindowSize, searchWindowSize)**](https://docs.opencv.org/3.0-beta/modules/photo/doc/denoising.html#fastnlmeansdenoisingcolored)  \n",
        "h: 輝度成分のフィルタの平滑化の度合い、大きいとノイズが減少するが、エッジ部にも影響する  \n",
        "hColor: 色成分のフィルタの平滑化の度合い、10にしておけば十分  \n",
        "templateWindowSize: 周辺領域のテンプレートサイズ  \n",
        "searchWindowSize: 重みを探索する領域サイズ"
      ]
    },
    {
      "metadata": {
        "id": "RVarahbhXnYN",
        "colab_type": "text"
      },
      "cell_type": "markdown",
      "source": [
        "### [**median(メディアン)フィルタ**](https://algorithm.joho.info/image-processing/median-filter/)\n",
        "飛んでるノイズを除去できる\n",
        "\n"
      ]
    },
    {
      "metadata": {
        "id": "zKRlU4m72jam",
        "colab_type": "code",
        "colab": {}
      },
      "cell_type": "code",
      "source": [
        "blur_median = cv2.medianBlur(img, ksize=5)\n",
        "\n",
        "print('medianフィルタ↓')\n",
        "imshow(blur_median)\n",
        "print('元画像↓')\n",
        "imshow(img)"
      ],
      "execution_count": 0,
      "outputs": []
    },
    {
      "metadata": {
        "id": "rRBY5jo1Xs4v",
        "colab_type": "text"
      },
      "cell_type": "markdown",
      "source": [
        "## 画像構成要素の置き換え"
      ]
    },
    {
      "metadata": {
        "id": "ql7lcbUhX0id",
        "colab_type": "text"
      },
      "cell_type": "markdown",
      "source": [
        "### モザイク処理"
      ]
    },
    {
      "metadata": {
        "id": "pB2xH_IG4Q7D",
        "colab_type": "code",
        "colab": {}
      },
      "cell_type": "code",
      "source": [
        "img_mosaic = img.copy()\n",
        "h,w,_ = img.shape\n",
        "size = 16    # 画像の縦横512割り切れるように\n",
        "for x in list(range(int(w/size))):\n",
        "  for y in list(range(int(h/size))):\n",
        "    img_mosaic[x*size:(x+1)*size, y*size:(y+1)*size] = np.mean(img[x*size:(x+1)*size, y*size:(y+1)*size], axis = 0).astype(np.uint8)\n",
        "print('モザイク↓')\n",
        "imshow(img_mosaic)\n",
        "print('元画像↓')\n",
        "imshow(img)"
      ],
      "execution_count": 0,
      "outputs": []
    }
  ]
}